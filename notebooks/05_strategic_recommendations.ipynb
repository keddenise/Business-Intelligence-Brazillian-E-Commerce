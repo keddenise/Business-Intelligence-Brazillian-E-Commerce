{
 "cells": [
  {
   "cell_type": "code",
   "execution_count": 4,
   "id": "0f8aec6e-4449-4b20-89e9-0af8124c71b4",
   "metadata": {},
   "outputs": [
    {
     "name": "stdout",
     "output_type": "stream",
     "text": [
      "Requirement already satisfied: numpy in c:\\python313\\lib\\site-packages (2.3.3)\n",
      "Note: you may need to restart the kernel to use updated packages.\n"
     ]
    }
   ],
   "source": [
    "pip install numpy\n"
   ]
  },
  {
   "cell_type": "code",
   "execution_count": 5,
   "id": "d020ca75-9744-459b-bf8a-eadf6d95682c",
   "metadata": {},
   "outputs": [],
   "source": [
    "import numpy as np\n"
   ]
  },
  {
   "cell_type": "code",
   "execution_count": 7,
   "id": "22d8db1b-d0d7-4fbf-a6e9-c2a344171925",
   "metadata": {},
   "outputs": [
    {
     "name": "stdout",
     "output_type": "stream",
     "text": [
      "(119143, 28)\n",
      "                           order_id                       customer_id  \\\n",
      "0  e481f51cbdc54678b7cc49136f2d6af7  9ef432eb6251297304e76186b10a928d   \n",
      "1  e481f51cbdc54678b7cc49136f2d6af7  9ef432eb6251297304e76186b10a928d   \n",
      "2  e481f51cbdc54678b7cc49136f2d6af7  9ef432eb6251297304e76186b10a928d   \n",
      "3  53cdb2fc8bc7dce0b6741e2150273451  b0830fb4747a6c6d20dea0b8c802d7ef   \n",
      "4  47770eb9100c2d0c44946d9cf07ec65d  41ce2a54c0b03bf3443c3d931a367089   \n",
      "\n",
      "  order_status order_purchase_timestamp    order_approved_at  \\\n",
      "0    delivered      2017-10-02 10:56:33  2017-10-02 11:07:15   \n",
      "1    delivered      2017-10-02 10:56:33  2017-10-02 11:07:15   \n",
      "2    delivered      2017-10-02 10:56:33  2017-10-02 11:07:15   \n",
      "3    delivered      2018-07-24 20:41:37  2018-07-26 03:24:27   \n",
      "4    delivered      2018-08-08 08:38:49  2018-08-08 08:55:23   \n",
      "\n",
      "  order_delivered_carrier_date order_delivered_customer_date  \\\n",
      "0          2017-10-04 19:55:00           2017-10-10 21:25:13   \n",
      "1          2017-10-04 19:55:00           2017-10-10 21:25:13   \n",
      "2          2017-10-04 19:55:00           2017-10-10 21:25:13   \n",
      "3          2018-07-26 14:31:00           2018-08-07 15:27:45   \n",
      "4          2018-08-08 13:50:00           2018-08-17 18:06:29   \n",
      "\n",
      "  order_estimated_delivery_date                customer_unique_id  \\\n",
      "0           2017-10-18 00:00:00  7c396fd4830fd04220f754e42b4e5bff   \n",
      "1           2017-10-18 00:00:00  7c396fd4830fd04220f754e42b4e5bff   \n",
      "2           2017-10-18 00:00:00  7c396fd4830fd04220f754e42b4e5bff   \n",
      "3           2018-08-13 00:00:00  af07308b275d755c9edb36a90c618231   \n",
      "4           2018-09-04 00:00:00  3a653a41f6f9fc3d2a113cf8398680e8   \n",
      "\n",
      "   customer_zip_code_prefix  ... payment_sequential payment_type  \\\n",
      "0                      3149  ...                1.0  credit_card   \n",
      "1                      3149  ...                3.0      voucher   \n",
      "2                      3149  ...                2.0      voucher   \n",
      "3                     47813  ...                1.0       boleto   \n",
      "4                     75265  ...                1.0  credit_card   \n",
      "\n",
      "   payment_installments payment_value                         review_id  \\\n",
      "0                   1.0         18.12  a54f0611adc9ed256b57ede6b6eb5114   \n",
      "1                   1.0          2.00  a54f0611adc9ed256b57ede6b6eb5114   \n",
      "2                   1.0         18.59  a54f0611adc9ed256b57ede6b6eb5114   \n",
      "3                   1.0        141.46  8d5266042046a06655c8db133d120ba5   \n",
      "4                   3.0        179.12  e73b67b67587f7644d5bd1a52deb1b01   \n",
      "\n",
      "  review_score  review_comment_title  \\\n",
      "0          4.0                   NaN   \n",
      "1          4.0                   NaN   \n",
      "2          4.0                   NaN   \n",
      "3          4.0      Muito boa a loja   \n",
      "4          5.0                   NaN   \n",
      "\n",
      "                              review_comment_message  review_creation_date  \\\n",
      "0  Não testei o produto ainda, mas ele veio corre...   2017-10-11 00:00:00   \n",
      "1  Não testei o produto ainda, mas ele veio corre...   2017-10-11 00:00:00   \n",
      "2  Não testei o produto ainda, mas ele veio corre...   2017-10-11 00:00:00   \n",
      "3                               Muito bom o produto.   2018-08-08 00:00:00   \n",
      "4                                                NaN   2018-08-18 00:00:00   \n",
      "\n",
      "  review_answer_timestamp  \n",
      "0     2017-10-12 03:43:48  \n",
      "1     2017-10-12 03:43:48  \n",
      "2     2017-10-12 03:43:48  \n",
      "3     2018-08-08 18:37:50  \n",
      "4     2018-08-22 19:07:58  \n",
      "\n",
      "[5 rows x 28 columns]\n"
     ]
    }
   ],
   "source": [
    "import pandas as pd\n",
    "\n",
    "# --- Load raw datasets (CSV is standard for Olist, not Excel) ---\n",
    "base_path = r\"D:\\Download\\Khate IMPORTANT FILES\\Ecommerce-Customer-Intelligence\\data\\raw\"\n",
    "\n",
    "customers   = pd.read_csv(f\"{base_path}\\\\olist_customers_dataset.csv\")\n",
    "orders      = pd.read_csv(f\"{base_path}\\\\olist_orders_dataset.csv\")\n",
    "order_items = pd.read_csv(f\"{base_path}\\\\olist_order_items_dataset.csv\")\n",
    "payments    = pd.read_csv(f\"{base_path}\\\\olist_order_payments_dataset.csv\")\n",
    "reviews     = pd.read_csv(f\"{base_path}\\\\olist_order_reviews_dataset.csv\")\n",
    "\n",
    "# --- Merge into a single df ---\n",
    "df = (\n",
    "    orders\n",
    "    .merge(customers, on=\"customer_id\", how=\"left\")\n",
    "    .merge(order_items, on=\"order_id\", how=\"left\")\n",
    "    .merge(payments, on=\"order_id\", how=\"left\")\n",
    "    .merge(reviews, on=\"order_id\", how=\"left\")\n",
    ")\n",
    "\n",
    "# --- Preview ---\n",
    "print(df.shape)\n",
    "print(df.head())\n"
   ]
  },
  {
   "cell_type": "code",
   "execution_count": 10,
   "id": "378d9b7c-c322-4c5a-936f-959c3f9b94b7",
   "metadata": {},
   "outputs": [
    {
     "name": "stdout",
     "output_type": "stream",
     "text": [
      "                 customers     revenue   cac  total_cost      roi  avg_ltv\n",
      "Direct             17805.0  3138051.19   5.0     89025.0  3424.91   176.25\n",
      "Email Marketing    11990.0  2034567.98   8.0     95920.0  2021.11   169.69\n",
      "Organic Search     23885.0  4110087.44  15.0    358275.0  1047.19   172.09\n",
      "Paid Search        29624.0  5120475.58  45.0   1333080.0   284.11   172.85\n",
      "Referral           17899.0  3125527.65  12.0    214788.0  1355.17   174.63\n",
      "Social Media       17940.0  3050954.17  25.0    448500.0   580.26   170.06\n"
     ]
    }
   ],
   "source": [
    "import numpy as np\n",
    "\n",
    "# Simulate acquisition channels for each customer\n",
    "np.random.seed(42)  # reproducible\n",
    "acquisition_channels = list(estimated_cac.keys())\n",
    "\n",
    "df['acquisition_channel'] = np.random.choice(\n",
    "    acquisition_channels, \n",
    "    size=len(df),\n",
    "    p=[0.2, 0.25, 0.15, 0.1, 0.15, 0.15]  # probabilities, tweak as you like\n",
    ")\n",
    "\n",
    "# Group customers by channel\n",
    "channel_groups = df.groupby('acquisition_channel')\n",
    "\n",
    "# Run ROI calculation per channel\n",
    "roi_results = {}\n",
    "for channel, group in channel_groups:\n",
    "    roi_results[channel] = calculate_channel_roi(group, estimated_cac[channel])\n",
    "\n",
    "# Convert to DataFrame for easy analysis\n",
    "roi_df = pd.DataFrame(roi_results).T.round(2)\n",
    "\n",
    "print(roi_df)\n"
   ]
  },
  {
   "cell_type": "code",
   "execution_count": 20,
   "id": "592fb411-a867-49c5-9d42-69e1c16e1c6c",
   "metadata": {},
   "outputs": [
    {
     "name": "stdout",
     "output_type": "stream",
     "text": [
      "['order_id', 'customer_id', 'order_status', 'order_purchase_timestamp', 'order_approved_at', 'order_delivered_carrier_date', 'order_delivered_customer_date', 'order_estimated_delivery_date', 'customer_unique_id', 'customer_zip_code_prefix', 'customer_city', 'customer_state', 'order_item_id', 'product_id', 'seller_id', 'shipping_limit_date', 'price', 'freight_value', 'payment_sequential', 'payment_type', 'payment_installments', 'payment_value', 'review_id', 'review_score', 'review_comment_title', 'review_comment_message', 'review_creation_date', 'review_answer_timestamp', 'acquisition_channel']\n"
     ]
    }
   ],
   "source": [
    "print(df.columns.tolist())\n"
   ]
  },
  {
   "cell_type": "code",
   "execution_count": 29,
   "id": "09c83611-5b37-4a28-935c-c6dd15e10bdb",
   "metadata": {},
   "outputs": [],
   "source": [
    "import pandas as pd  \n",
    "\n",
    "# Define base path  \n",
    "base_path = r\"D:\\Download\\Khate IMPORTANT FILES\\Ecommerce-Customer-Intelligence\\data\\raw\"  \n",
    "\n",
    "# Load product and translation datasets (CSV, not Excel)  \n",
    "products = pd.read_csv(base_path + r\"\\olist_products_dataset.csv\")  \n",
    "translation = pd.read_csv(base_path + r\"\\product_category_name_translation.csv\")  \n",
    "\n",
    "# Merge product info  \n",
    "df = df.merge(products[['product_id', 'product_category_name']], on='product_id', how='left')  \n",
    "\n",
    "# Merge translations to get English names  \n",
    "df = df.merge(translation, on='product_category_name', how='left')  \n"
   ]
  },
  {
   "cell_type": "code",
   "execution_count": 30,
   "id": "9552b84b-afe1-48c7-9d24-3a7407e8fe2b",
   "metadata": {},
   "outputs": [],
   "source": [
    "import pandas as pd  \n",
    "\n",
    "# Define base path  \n",
    "base_path = r\"D:\\Download\\Khate IMPORTANT FILES\\Ecommerce-Customer-Intelligence\\data\\raw\"  \n",
    "\n",
    "# Load core datasets  \n",
    "customers   = pd.read_csv(base_path + r\"\\olist_customers_dataset.csv\")  \n",
    "orders      = pd.read_csv(base_path + r\"\\olist_orders_dataset.csv\")  \n",
    "order_items = pd.read_csv(base_path + r\"\\olist_order_items_dataset.csv\")  \n",
    "payments    = pd.read_csv(base_path + r\"\\olist_order_payments_dataset.csv\")  \n",
    "reviews     = pd.read_csv(base_path + r\"\\olist_order_reviews_dataset.csv\")  \n",
    "\n",
    "# Step 1: merge orders + customers  \n",
    "df = orders.merge(customers, on=\"customer_id\", how=\"left\")  \n",
    "\n",
    "# Step 2: merge with order_items  \n",
    "df = df.merge(order_items, on=\"order_id\", how=\"left\")  \n",
    "\n",
    "# Step 3: merge with payments  \n",
    "df = df.merge(payments, on=\"order_id\", how=\"left\")  \n",
    "\n",
    "# Step 4: merge with reviews  \n",
    "df = df.merge(reviews, on=\"order_id\", how=\"left\")  \n",
    "\n",
    "# Step 5: load products and category translations  \n",
    "products    = pd.read_csv(base_path + r\"\\olist_products_dataset.csv\")  \n",
    "translation = pd.read_csv(base_path + r\"\\product_category_name_translation.csv\")  \n",
    "\n",
    "# Step 6: merge product info  \n",
    "df = df.merge(products[['product_id', 'product_category_name']], on='product_id', how='left')  \n",
    "\n",
    "# Step 7: merge translations to get English names  \n",
    "df = df.merge(translation, on='product_category_name', how='left')  \n"
   ]
  },
  {
   "cell_type": "code",
   "execution_count": 31,
   "id": "dd4048bf-ad38-44e1-8cbb-88fea6816ecb",
   "metadata": {},
   "outputs": [
    {
     "name": "stdout",
     "output_type": "stream",
     "text": [
      "                           order_id                       customer_id  \\\n",
      "0  e481f51cbdc54678b7cc49136f2d6af7  9ef432eb6251297304e76186b10a928d   \n",
      "1  e481f51cbdc54678b7cc49136f2d6af7  9ef432eb6251297304e76186b10a928d   \n",
      "2  e481f51cbdc54678b7cc49136f2d6af7  9ef432eb6251297304e76186b10a928d   \n",
      "3  53cdb2fc8bc7dce0b6741e2150273451  b0830fb4747a6c6d20dea0b8c802d7ef   \n",
      "4  47770eb9100c2d0c44946d9cf07ec65d  41ce2a54c0b03bf3443c3d931a367089   \n",
      "\n",
      "  order_status order_purchase_timestamp    order_approved_at  \\\n",
      "0    delivered      2017-10-02 10:56:33  2017-10-02 11:07:15   \n",
      "1    delivered      2017-10-02 10:56:33  2017-10-02 11:07:15   \n",
      "2    delivered      2017-10-02 10:56:33  2017-10-02 11:07:15   \n",
      "3    delivered      2018-07-24 20:41:37  2018-07-26 03:24:27   \n",
      "4    delivered      2018-08-08 08:38:49  2018-08-08 08:55:23   \n",
      "\n",
      "  order_delivered_carrier_date order_delivered_customer_date  \\\n",
      "0          2017-10-04 19:55:00           2017-10-10 21:25:13   \n",
      "1          2017-10-04 19:55:00           2017-10-10 21:25:13   \n",
      "2          2017-10-04 19:55:00           2017-10-10 21:25:13   \n",
      "3          2018-07-26 14:31:00           2018-08-07 15:27:45   \n",
      "4          2018-08-08 13:50:00           2018-08-17 18:06:29   \n",
      "\n",
      "  order_estimated_delivery_date                customer_unique_id  \\\n",
      "0           2017-10-18 00:00:00  7c396fd4830fd04220f754e42b4e5bff   \n",
      "1           2017-10-18 00:00:00  7c396fd4830fd04220f754e42b4e5bff   \n",
      "2           2017-10-18 00:00:00  7c396fd4830fd04220f754e42b4e5bff   \n",
      "3           2018-08-13 00:00:00  af07308b275d755c9edb36a90c618231   \n",
      "4           2018-09-04 00:00:00  3a653a41f6f9fc3d2a113cf8398680e8   \n",
      "\n",
      "   customer_zip_code_prefix  ... payment_installments payment_value  \\\n",
      "0                      3149  ...                  1.0         18.12   \n",
      "1                      3149  ...                  1.0          2.00   \n",
      "2                      3149  ...                  1.0         18.59   \n",
      "3                     47813  ...                  1.0        141.46   \n",
      "4                     75265  ...                  3.0        179.12   \n",
      "\n",
      "                          review_id review_score review_comment_title  \\\n",
      "0  a54f0611adc9ed256b57ede6b6eb5114          4.0                  NaN   \n",
      "1  a54f0611adc9ed256b57ede6b6eb5114          4.0                  NaN   \n",
      "2  a54f0611adc9ed256b57ede6b6eb5114          4.0                  NaN   \n",
      "3  8d5266042046a06655c8db133d120ba5          4.0     Muito boa a loja   \n",
      "4  e73b67b67587f7644d5bd1a52deb1b01          5.0                  NaN   \n",
      "\n",
      "                              review_comment_message  review_creation_date  \\\n",
      "0  Não testei o produto ainda, mas ele veio corre...   2017-10-11 00:00:00   \n",
      "1  Não testei o produto ainda, mas ele veio corre...   2017-10-11 00:00:00   \n",
      "2  Não testei o produto ainda, mas ele veio corre...   2017-10-11 00:00:00   \n",
      "3                               Muito bom o produto.   2018-08-08 00:00:00   \n",
      "4                                                NaN   2018-08-18 00:00:00   \n",
      "\n",
      "   review_answer_timestamp  product_category_name  \\\n",
      "0      2017-10-12 03:43:48  utilidades_domesticas   \n",
      "1      2017-10-12 03:43:48  utilidades_domesticas   \n",
      "2      2017-10-12 03:43:48  utilidades_domesticas   \n",
      "3      2018-08-08 18:37:50             perfumaria   \n",
      "4      2018-08-22 19:07:58             automotivo   \n",
      "\n",
      "  product_category_name_english  \n",
      "0                    housewares  \n",
      "1                    housewares  \n",
      "2                    housewares  \n",
      "3                     perfumery  \n",
      "4                          auto  \n",
      "\n",
      "[5 rows x 30 columns]\n",
      "Index(['order_id', 'customer_id', 'order_status', 'order_purchase_timestamp',\n",
      "       'order_approved_at', 'order_delivered_carrier_date',\n",
      "       'order_delivered_customer_date', 'order_estimated_delivery_date',\n",
      "       'customer_unique_id', 'customer_zip_code_prefix', 'customer_city',\n",
      "       'customer_state', 'order_item_id', 'product_id', 'seller_id',\n",
      "       'shipping_limit_date', 'price', 'freight_value', 'payment_sequential',\n",
      "       'payment_type', 'payment_installments', 'payment_value', 'review_id',\n",
      "       'review_score', 'review_comment_title', 'review_comment_message',\n",
      "       'review_creation_date', 'review_answer_timestamp',\n",
      "       'product_category_name', 'product_category_name_english'],\n",
      "      dtype='object')\n",
      "(119143, 30)\n"
     ]
    }
   ],
   "source": [
    "print(df.head())\n",
    "print(df.columns)\n",
    "print(df.shape)\n"
   ]
  },
  {
   "cell_type": "code",
   "execution_count": 32,
   "id": "ddba0c47-bcbf-49f6-81cc-a0547b3a0ede",
   "metadata": {},
   "outputs": [],
   "source": [
    "customer_summary = df.groupby('customer_unique_id').agg({\n",
    "    'payment_value': 'sum',\n",
    "    'order_id': 'count',\n",
    "    'review_score': 'mean',\n",
    "    'product_category_name_english': lambda x: x.mode().iloc[0] if not x.mode().empty else 'Unknown'\n",
    "}).round(2)\n",
    "\n",
    "customer_summary.columns = ['total_value', 'order_count', 'avg_review', 'top_category']\n"
   ]
  },
  {
   "cell_type": "code",
   "execution_count": 33,
   "id": "3242ed7f-48bd-4693-b87d-c113f31b2311",
   "metadata": {},
   "outputs": [],
   "source": [
    "def create_customer_segments(row):\n",
    "    if row['total_value'] > 1000 and row['order_count'] > 5:\n",
    "        return 'VIP'\n",
    "    elif row['total_value'] > 500:\n",
    "        return 'Loyal'\n",
    "    elif row['order_count'] == 1:\n",
    "        return 'New'\n",
    "    else:\n",
    "        return 'Regular'\n",
    "\n",
    "customer_summary['segment'] = customer_summary.apply(create_customer_segments, axis=1)\n"
   ]
  },
  {
   "cell_type": "code",
   "execution_count": 34,
   "id": "a8e89f7c-1747-4eb7-b132-c9dab9f44f80",
   "metadata": {},
   "outputs": [],
   "source": [
    "customer_summary.to_csv(base_path + r\"\\customer_summary.csv\", index=True)\n"
   ]
  },
  {
   "cell_type": "code",
   "execution_count": 35,
   "id": "94d5b5f1-83a8-4e86-abb9-e6aab375f67b",
   "metadata": {},
   "outputs": [],
   "source": [
    "# Purchase timing analysis\n",
    "df['order_hour'] = pd.to_datetime(df['order_purchase_timestamp']).dt.hour\n",
    "df['order_day_of_week'] = pd.to_datetime(df['order_purchase_timestamp']).dt.day_name()\n",
    "df['order_month'] = pd.to_datetime(df['order_purchase_timestamp']).dt.month\n",
    "\n",
    "# Peak shopping times\n",
    "time_analysis = df.groupby(['order_day_of_week', 'order_hour']).agg({\n",
    "    'order_id': 'count',\n",
    "    'payment_value': 'mean'\n",
    "}).reset_index()\n",
    "\n",
    "# Seasonal trends\n",
    "seasonal_trends = df.groupby('order_month').agg({\n",
    "    'order_id': 'count',\n",
    "    'payment_value': ['sum', 'mean'],\n",
    "    'customer_unique_id': 'nunique'\n",
    "}).round(2)"
   ]
  },
  {
   "cell_type": "code",
   "execution_count": 36,
   "id": "65cb7ad9-d15b-4cb8-9553-159a9c3acefe",
   "metadata": {},
   "outputs": [],
   "source": [
    "# Category performance analysis\n",
    "category_performance = df.groupby('product_category_name').agg({\n",
    "    'order_id': 'count',\n",
    "    'payment_value': ['sum', 'mean'],\n",
    "    'review_score': 'mean',\n",
    "    'freight_value': 'mean',\n",
    "    'customer_unique_id': 'nunique'\n",
    "}).round(2)\n",
    "\n",
    "category_performance['revenue_share'] = (\n",
    "    category_performance[('payment_value', 'sum')] / \n",
    "    category_performance[('payment_value', 'sum')].sum() * 100\n",
    ")\n",
    "\n",
    "# Cross-category analysis\n",
    "customer_category_diversity = df.groupby('customer_unique_id')['product_category_name'].nunique()\n",
    "diverse_customers = customer_category_diversity[customer_category_diversity > 3].index"
   ]
  },
  {
   "cell_type": "code",
   "execution_count": 38,
   "id": "86edebb3-813e-444c-8a70-844d4a99cea1",
   "metadata": {},
   "outputs": [],
   "source": [
    "# 1. Geographic expansion opportunities (state-level analysis)\n",
    "state_metrics = df.groupby('customer_state').agg({\n",
    "    'payment_value': 'sum',\n",
    "    'order_id': 'count',\n",
    "    'customer_unique_id': 'nunique'\n",
    "}).round(2)\n",
    "\n",
    "# Add revenue share\n",
    "state_metrics['revenue_share'] = (state_metrics['payment_value'] / df['payment_value'].sum()) * 100\n",
    "\n",
    "# Rank states with low current share but enough customers/orders\n",
    "expansion_opportunities = state_metrics[\n",
    "    (state_metrics['revenue_share'] < 2.0) & (state_metrics['customer_unique_id'] > 50)\n",
    "].sort_values('payment_value', ascending=False)\n",
    "\n",
    "\n",
    "# 2. Segment ROI (you already have `customer_summary` and `segment_roi` from earlier)\n",
    "\n",
    "\n",
    "# 3. Seasonal revenue patterns\n",
    "df['order_purchase_timestamp'] = pd.to_datetime(df['order_purchase_timestamp'])\n",
    "df['order_month'] = df['order_purchase_timestamp'].dt.to_period('M')\n",
    "\n",
    "seasonal_trends = df.groupby('order_month').agg({\n",
    "    'payment_value': 'sum',\n",
    "    'order_id': 'count'\n",
    "}).round(2)\n",
    "\n",
    "\n",
    "# 4. Category performance\n",
    "category_performance = df.groupby('product_category_name_english').agg({\n",
    "    'payment_value': 'sum',\n",
    "    'review_score': 'mean',\n",
    "    'order_id': 'count'\n",
    "}).round(2)\n",
    "\n",
    "# Add revenue share\n",
    "category_performance['revenue_share'] = (category_performance['payment_value'] / df['payment_value'].sum()) * 100\n"
   ]
  },
  {
   "cell_type": "code",
   "execution_count": 41,
   "id": "09276ba4-92c2-4b51-a896-4bd04ed0d312",
   "metadata": {},
   "outputs": [],
   "source": [
    "# Customer-level summary\n",
    "customer_summary = df.groupby('customer_unique_id').agg({\n",
    "    'order_id': 'count',\n",
    "    'payment_value': ['sum', 'mean'],\n",
    "    'review_score': 'mean'\n",
    "}).round(2)\n",
    "\n",
    "# Rename columns for clarity\n",
    "customer_summary.columns = ['total_orders', 'total_value', 'avg_order_value', 'avg_review_score']\n",
    "\n",
    "# Segment customers by total orders\n",
    "customer_summary['segment'] = pd.cut(\n",
    "    customer_summary['total_orders'],\n",
    "    bins=[0, 2, 5, 10, float('inf')],\n",
    "    labels=['Low', 'Medium', 'High', 'VIP']\n",
    ")\n",
    "\n",
    "# ROI by segment\n",
    "segment_roi = customer_summary.groupby('segment', observed=False).agg({\n",
    "    'total_value': ['mean', 'sum'],\n",
    "    'avg_order_value': 'mean',\n",
    "    'avg_review_score': 'mean'\n",
    "}).round(2)\n"
   ]
  },
  {
   "cell_type": "code",
   "execution_count": 42,
   "id": "777489af-418d-4457-bc5d-593c9d9e582c",
   "metadata": {},
   "outputs": [],
   "source": [
    "profitable_segments = segment_roi[\n",
    "    segment_roi[('total_value', 'mean')] > segment_roi[('total_value', 'mean')].median()\n",
    "]\n"
   ]
  },
  {
   "cell_type": "code",
   "execution_count": 44,
   "id": "8f5a4fe9-9de0-4c54-9302-ba32fde7d45a",
   "metadata": {},
   "outputs": [],
   "source": [
    "# Geographic performance\n",
    "state_metrics = df.groupby('customer_state').agg({\n",
    "    'payment_value': ['sum', 'mean'],\n",
    "    'order_id': 'count'\n",
    "})\n",
    "\n",
    "expansion_opportunities = state_metrics.sort_values(('payment_value', 'sum'), ascending=False)\n",
    "top_expansion_states = expansion_opportunities.head(5)\n",
    "\n",
    "# Customer segment ROI\n",
    "customer_summary = df.groupby('customer_unique_id').agg({\n",
    "    'payment_value': 'sum',\n",
    "    'order_id': 'count',\n",
    "    'review_score': 'mean'\n",
    "}).rename(columns={'payment_value': 'total_value',\n",
    "                   'order_id': 'order_count',\n",
    "                   'review_score': 'avg_review_score'})\n",
    "\n",
    "customer_summary['avg_order_value'] = customer_summary['total_value'] / customer_summary['order_count']\n",
    "customer_summary['segment'] = pd.qcut(customer_summary['total_value'], q=4, labels=['Low','Mid','High','VIP'])\n",
    "\n",
    "segment_roi = customer_summary.groupby('segment', observed=False).agg({\n",
    "    'total_value': ['mean','sum'],\n",
    "    'avg_order_value': 'mean',\n",
    "    'avg_review_score': 'mean'\n",
    "})\n",
    "\n",
    "# Seasonal trends\n",
    "df['order_purchase_timestamp'] = pd.to_datetime(df['order_purchase_timestamp'])\n",
    "df['month'] = df['order_purchase_timestamp'].dt.to_period('M')\n",
    "seasonal_trends = df.groupby('month').agg({\n",
    "    'payment_value': 'sum'\n",
    "})\n",
    "\n",
    "# Category performance\n",
    "category_performance = df.groupby('product_category_name_english').agg({\n",
    "    'payment_value': 'sum',\n",
    "    'review_score': 'mean'\n",
    "}).rename(columns={'payment_value':'revenue'}).reset_index()\n",
    "\n",
    "category_performance['revenue_share'] = (\n",
    "    category_performance['revenue'] / category_performance['revenue'].sum() * 100\n",
    ")\n",
    "\n",
    "# Executive summary\n",
    "executive_insights = {\n",
    "    'total_customers': df['customer_unique_id'].nunique(),\n",
    "    'total_orders': df['order_id'].nunique(),\n",
    "    'total_revenue': df['payment_value'].sum(),\n",
    "    'avg_order_value': df['payment_value'].mean(),\n",
    "    'top_performing_state': state_metrics[('payment_value', 'sum')].idxmax(),\n",
    "    'expansion_opportunities': len(top_expansion_states),\n",
    "    'peak_sales_month': seasonal_trends['payment_value'].idxmax()\n",
    "}\n"
   ]
  },
  {
   "cell_type": "code",
   "execution_count": 45,
   "id": "8204a73f-0962-49bf-9be9-0a5a71699fda",
   "metadata": {},
   "outputs": [
    {
     "name": "stdout",
     "output_type": "stream",
     "text": [
      "Executive summary saved to processed folder.\n"
     ]
    }
   ],
   "source": [
    "# Convert executive summary dict to DataFrame\n",
    "exec_summary_df = pd.DataFrame([executive_insights])\n",
    "\n",
    "# Export to processed data folder\n",
    "exec_summary_df.to_csv(\n",
    "    r\"D:\\Download\\Khate IMPORTANT FILES\\Ecommerce-Customer-Intelligence\\data\\processed\\executive_summary.csv\",\n",
    "    index=False\n",
    ")\n",
    "\n",
    "print(\"Executive summary saved to processed folder.\")\n"
   ]
  },
  {
   "cell_type": "code",
   "execution_count": 2,
   "id": "cec40004-c21a-473a-8218-c7908cc1d038",
   "metadata": {},
   "outputs": [],
   "source": [
    "import os\n"
   ]
  },
  {
   "cell_type": "code",
   "execution_count": 4,
   "id": "11c86a37-df6d-48a5-8cbf-e24224fa7a3e",
   "metadata": {},
   "outputs": [],
   "source": [
    "input_file = r\"D:\\Download\\Khate IMPORTANT FILES\\Ecommerce-Customer-Intelligence\\notebooks\\data\\cleaned\\cleaned_orders.csv\"\n",
    "df = pd.read_csv(input_file)\n"
   ]
  },
  {
   "cell_type": "code",
   "execution_count": 6,
   "id": "96050968-3751-4385-ad1b-8122309c4b04",
   "metadata": {},
   "outputs": [
    {
     "name": "stdout",
     "output_type": "stream",
     "text": [
      "['order_id', 'customer_id', 'order_status', 'order_purchase_timestamp', 'order_approved_at', 'order_delivered_carrier_date', 'order_delivered_customer_date', 'order_estimated_delivery_date', 'order_purchase_month', 'order_purchase_year', 'order_purchase_weekday', 'delivery_time_days', 'delivery_delay_days']\n"
     ]
    }
   ],
   "source": [
    "import pandas as pd\n",
    "\n",
    "input_file = r\"D:\\Download\\Khate IMPORTANT FILES\\Ecommerce-Customer-Intelligence\\notebooks\\data\\cleaned\\cleaned_orders.csv\"\n",
    "df = pd.read_csv(input_file)\n",
    "\n",
    "print(df.columns.tolist())\n"
   ]
  },
  {
   "cell_type": "code",
   "execution_count": 7,
   "id": "bdb1d6f5-6522-4e24-8fc0-8f415692e254",
   "metadata": {},
   "outputs": [],
   "source": [
    "orders_powerbi = df[['order_id', \n",
    "                     'customer_id', \n",
    "                     'order_status',\n",
    "                     'order_purchase_timestamp', \n",
    "                     'order_approved_at', \n",
    "                     'order_delivered_carrier_date', \n",
    "                     'order_delivered_customer_date', \n",
    "                     'order_estimated_delivery_date',\n",
    "                     'order_purchase_month', \n",
    "                     'order_purchase_year', \n",
    "                     'order_purchase_weekday', \n",
    "                     'delivery_time_days', \n",
    "                     'delivery_delay_days']].copy()\n"
   ]
  },
  {
   "cell_type": "code",
   "execution_count": 8,
   "id": "060cede8-8285-45d9-be67-95220653b93c",
   "metadata": {},
   "outputs": [
    {
     "name": "stdout",
     "output_type": "stream",
     "text": [
      "✅ Orders data exported\n"
     ]
    }
   ],
   "source": [
    "import os\n",
    "\n",
    "output_path = r\"D:\\Download\\Khate IMPORTANT FILES\\Ecommerce-Customer-Intelligence\\notebooks\\data\\processed\"\n",
    "os.makedirs(output_path, exist_ok=True)\n",
    "\n",
    "orders_powerbi.to_csv(os.path.join(output_path, \"powerbi_orders.csv\"), index=False)\n",
    "print(\"✅ Orders data exported\")\n"
   ]
  },
  {
   "cell_type": "code",
   "execution_count": null,
   "id": "e03d3853-4b25-43fa-9322-4d1b7ccb74dd",
   "metadata": {},
   "outputs": [],
   "source": []
  }
 ],
 "metadata": {
  "kernelspec": {
   "display_name": "Python 3 (ipykernel)",
   "language": "python",
   "name": "python3"
  },
  "language_info": {
   "codemirror_mode": {
    "name": "ipython",
    "version": 3
   },
   "file_extension": ".py",
   "mimetype": "text/x-python",
   "name": "python",
   "nbconvert_exporter": "python",
   "pygments_lexer": "ipython3",
   "version": "3.13.7"
  }
 },
 "nbformat": 4,
 "nbformat_minor": 5
}
